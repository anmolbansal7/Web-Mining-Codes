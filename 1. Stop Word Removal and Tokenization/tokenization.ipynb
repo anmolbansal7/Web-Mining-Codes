{
 "cells": [
  {
   "cell_type": "code",
   "execution_count": 1,
   "id": "701cc118",
   "metadata": {},
   "outputs": [
    {
     "name": "stdout",
     "output_type": "stream",
     "text": [
      "Enter multiple sentences: Hi, I am Anmol Bansal. I love coding and especially web, I am a frontend web developer too. I am currently learning Web Mining. This text is for demo for my program.\n",
      "Token 1: Hi\n",
      "Token 2: I\n",
      "Token 3: am\n",
      "Token 4: Anmol\n",
      "Token 5: Bansal\n",
      "Token 6: love\n",
      "Token 7: coding\n",
      "Token 8: especially\n",
      "Token 9: web\n",
      "Token 10: frontend\n",
      "Token 11: developer\n",
      "Token 12: too\n",
      "Token 13: currently\n",
      "Token 14: learning\n",
      "Token 15: Web\n",
      "Token 16: Mining\n",
      "Token 17: This\n",
      "Token 18: text\n",
      "Token 19: is\n",
      "Token 20: for\n",
      "Token 21: demo\n",
      "Token 22: my\n",
      "Token 23: program\n"
     ]
    }
   ],
   "source": [
    "#Anmol Bansal 19BCE0630\n",
    "\n",
    "stop_words = [ '.', ',', 'a', 'they', 'the', 'his', 'so', 'and', 'were', 'from', 'that', 'of', 'in', 'only', 'with', 'to' ]\n",
    "\n",
    "single = input(\"Enter multiple sentences: \").split()\n",
    "\n",
    "new_single = []\n",
    "tokens = {}\n",
    "count = 1\n",
    "\n",
    "for i in single :\n",
    "    if i[-1] in [\".\", \",\"] :\n",
    "        i = i[:-1]\n",
    "    if i not in stop_words:\n",
    "        new_single.append(i)\n",
    "    \n",
    "for i in new_single :\n",
    "    if i not in tokens.keys() :\n",
    "        tokens[i] = count\n",
    "        print(\"Token \" + str(count) + \": \" + i)\n",
    "        count+=1"
   ]
  },
  {
   "cell_type": "code",
   "execution_count": null,
   "id": "9ca1d2eb",
   "metadata": {},
   "outputs": [],
   "source": []
  }
 ],
 "metadata": {
  "kernelspec": {
   "display_name": "Python 3",
   "language": "python",
   "name": "python3"
  },
  "language_info": {
   "codemirror_mode": {
    "name": "ipython",
    "version": 3
   },
   "file_extension": ".py",
   "mimetype": "text/x-python",
   "name": "python",
   "nbconvert_exporter": "python",
   "pygments_lexer": "ipython3",
   "version": "3.8.8"
  }
 },
 "nbformat": 4,
 "nbformat_minor": 5
}
