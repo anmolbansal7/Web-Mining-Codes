{
 "cells": [
  {
   "cell_type": "code",
   "execution_count": 1,
   "id": "1fcca6cb",
   "metadata": {},
   "outputs": [
    {
     "name": "stdout",
     "output_type": "stream",
     "text": [
      "Tokens: \n",
      "['Hello', ',', 'Anmol', 'This', 'is', 'a', 'test', 'for', 'web', 'mining', 'lab', 'I', 'will', 'be', 'using', 'some', 'words', 'like', 'studies', 'studying', 'and', 'drives', 'driving']\n",
      "\n",
      "\n",
      "After Removing Stop Words: \n",
      "['Hello', 'Anmol', 'This', 'test', 'web', 'mining', 'lab', 'I', 'using', 'words', 'like', 'studies', 'studying', 'drives', 'driving']\n",
      "\n",
      "\n",
      "Lemmetization: \n",
      "['Hello', 'Anmol', 'This', 'test', 'web', 'mining', 'lab', 'I', 'using', 'word', 'like', 'study', 'studying', 'drive', 'driving']\n",
      "\n",
      "\n",
      "Stemming: \n",
      "['hello', 'anmol', 'thi', 'test', 'web', 'mine', 'lab', 'i', 'use', 'word', 'like', 'studi', 'studi', 'drive', 'drive']\n",
      "\n",
      "\n"
     ]
    }
   ],
   "source": [
    "#Anmol Bansal 19BCE0630\n",
    "from nltk.corpus import stopwords\n",
    "from nltk.tokenize import word_tokenize\n",
    "from nltk.stem import WordNetLemmatizer\n",
    "from nltk.stem.porter import PorterStemmer\n",
    "\n",
    "inputTxt = open(\"input.txt\", \"r\")\n",
    "inputTxt = inputTxt.read()\n",
    "\n",
    "#Initialise stop words\n",
    "stop_words = set(stopwords.words('english'))\n",
    "\n",
    "#Tokenization\n",
    "tokens = word_tokenize(inputTxt)\n",
    "print(\"Tokens: \")\n",
    "print(tokens)\n",
    "print(\"\\n\")\n",
    "\n",
    "#Stop Word Removal\n",
    "filtered_input = [w for w in tokens if not w.lower() in stop_words]\n",
    "filtered_sentence = []\n",
    "for w in tokens:\n",
    "\tif w not in stop_words:\n",
    "\t\tfiltered_sentence.append(w)\n",
    "        \n",
    "print(\"After Removing Stop Words: \")\n",
    "print(filtered_sentence)\n",
    "print(\"\\n\")\n",
    "\n",
    "#Lemmetization\n",
    "l = WordNetLemmatizer()\n",
    "lemm_sentence = []\n",
    "for x in filtered_sentence:\n",
    "    y = l.lemmatize(x)\n",
    "    lemm_sentence.append(y)\n",
    "\n",
    "print(\"Lemmetization: \")\n",
    "print(lemm_sentence)\n",
    "print(\"\\n\")\n",
    "\n",
    "#Stemming\n",
    "s = PorterStemmer()\n",
    "stem_sentence = []\n",
    "for x in filtered_sentence:\n",
    "    y = s.stem(x)\n",
    "    stem_sentence.append(y)\n",
    "\n",
    "print(\"Stemming: \")\n",
    "print(stem_sentence)\n",
    "print(\"\\n\")"
   ]
  },
  {
   "cell_type": "code",
   "execution_count": null,
   "id": "398e611a",
   "metadata": {},
   "outputs": [],
   "source": []
  }
 ],
 "metadata": {
  "kernelspec": {
   "display_name": "Python 3",
   "language": "python",
   "name": "python3"
  },
  "language_info": {
   "codemirror_mode": {
    "name": "ipython",
    "version": 3
   },
   "file_extension": ".py",
   "mimetype": "text/x-python",
   "name": "python",
   "nbconvert_exporter": "python",
   "pygments_lexer": "ipython3",
   "version": "3.8.8"
  }
 },
 "nbformat": 4,
 "nbformat_minor": 5
}
