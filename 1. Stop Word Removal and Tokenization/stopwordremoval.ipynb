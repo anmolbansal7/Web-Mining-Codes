{
 "cells": [
  {
   "cell_type": "code",
   "execution_count": 1,
   "id": "b7e509e0",
   "metadata": {},
   "outputs": [
    {
     "name": "stdout",
     "output_type": "stream",
     "text": [
      "Enter the paragraph: Lorem ipsum dolor sit amet, consectetur adipiscing elit. Integer in sem quam. Mauris aliquam semper convallis.\n",
      "['Lorem', 'ipsum', 'dolor', 'sit', 'amet', 'consectetur', 'adipiscing', 'elit', 'Integer', 'sem', 'quam', 'Mauris', 'aliquam', 'semper', 'convallis']\n"
     ]
    }
   ],
   "source": [
    "#Anmol Bansal 19BCE0630\n",
    "\n",
    "stop_words = [ '.', ',', 'a', 'they', 'the', 'his', 'so', 'and', 'were', 'from', 'that', 'of', 'in', 'only', 'with', 'to' ]\n",
    "\n",
    "para = input(\"Enter the paragraph: \").split()\n",
    "new_para = []\n",
    "\n",
    "for i in para :\n",
    "    if i[-1] in [\".\", \",\"] :\n",
    "        i = i[:-1]\n",
    "    if i not in stop_words:\n",
    "        new_para.append(i)\n",
    "        \n",
    "\n",
    "print(new_para)"
   ]
  },
  {
   "cell_type": "code",
   "execution_count": null,
   "id": "d9211c83",
   "metadata": {},
   "outputs": [],
   "source": []
  }
 ],
 "metadata": {
  "kernelspec": {
   "display_name": "Python 3",
   "language": "python",
   "name": "python3"
  },
  "language_info": {
   "codemirror_mode": {
    "name": "ipython",
    "version": 3
   },
   "file_extension": ".py",
   "mimetype": "text/x-python",
   "name": "python",
   "nbconvert_exporter": "python",
   "pygments_lexer": "ipython3",
   "version": "3.8.8"
  }
 },
 "nbformat": 4,
 "nbformat_minor": 5
}
